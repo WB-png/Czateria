{
  "nbformat": 4,
  "nbformat_minor": 0,
  "metadata": {
    "colab": {
      "provenance": []
    },
    "kernelspec": {
      "name": "python3",
      "display_name": "Python 3"
    },
    "language_info": {
      "name": "python"
    }
  },
  "cells": [
    {
      "cell_type": "markdown",
      "source": [
        "# Nowa sekcja"
      ],
      "metadata": {
        "id": "yo8JKsLsot6b"
      }
    },
    {
      "cell_type": "code",
      "execution_count": null,
      "metadata": {
        "id": "niTesA6PUP-K"
      },
      "outputs": [],
      "source": []
    },
    {
      "cell_type": "markdown",
      "source": [
        "Zadanie 1\n",
        "Które z następujących zadań wymagają w Twojej opinii inteligencji od człowieka:\n",
        "\n",
        "• wypełnianie deklaracji PIT, Wypełnianie deklaracji PIT jest zbyt skomplikowaną czynnością dla AI, może jedynie wytłumaczyć, jak to się robi\n",
        "\n",
        "• streszczanie tekstu, AI co prawda może streszczać tekst, jednak może popełniać duże błędy, więc człowiek zrobiłby to lepiej.\n",
        "\n",
        "• tłumaczenie tekstu, Człowiek potrafi dużo lepiej tłumaczyć teksty, ponieważ wie, jakie słowo najlepiej użyć, aby tekst brzmiał spójnie i naturalnie.\n",
        "\n",
        "• klasyfikacja tekstu do kategorii tematycznych, Nie, AI zdecydowanie dobrze radzi sobie z klasyfikacją tekstu do kategorii tematycznych i nie potrzeba do tego inteligencji człowieka.\n",
        "\n",
        "• odpowiadanie na proste pytania zadawane w języku naturalnym (np. polskim), Takie zadanie nie wymaga inteligencji człowieka, ponieważ AI dobrze sobie poradzi z odpowiadaniem na proste pytania zadawane w języku naturalnym.\n",
        "\n",
        "• układanie rozkładu jazdy transportu miejskiego, AI może najwyżej pomóc człowiekowi w tym zadaniu, jednak jest to na tyle skomplikowana czynność, że wymaga głównie inteligencji człowieka\n",
        "\n",
        "• programowanie (pisanie programów komputerowych) - Mimo tego, że AI może się przydać do pisania programów komputerowych, to jednak inteligencja ludzka jest bardziej przydatna, gdyż człowiek posiada szerszy zakres wiedzy i zdolności takich jak odczytywanie kontekstu, kreatywność, umiejętność rozwiązywania bardziej skomplikowanych problemów oraz praca grupowa\n",
        "\n",
        "• „programowanie” kanałów telewizyjnych - inteligencja ludzka jest bardziej wymagana, ponieważ człowiek lepiej zna się na obowiązujących trendach i preferencjach oglądaczy\n",
        "\n",
        "• testowanie oprogramowania - Inteligencja człowieka będzie lepsza w przypadku kiedy potrzebne jest rozwiązywanie niestandardowych błędów w trakcie testowania\n",
        "\n",
        "• komponowanie muzyki - Inteligencja człowieka będzie lepsza, ponieważ wtedy kompozycja będzie brzmieć bardziej naturalnie\n",
        "\n",
        "• rozwiązywanie układów równań - AI, ponieważ nawet dobrze wykształcony matematyk może popełnić tzw błąd ludzki\n",
        "\n",
        "• symboliczne obliczanie pochodnych funkcji - AI, ponieważ dużo lepiej poradzi sobie z obliczeniami matematycznymi, również ze względu na brak możliwości wystąpienia błędu ludzkiego\n",
        "\n",
        "• symboliczne całkowanie funkcji - AI, ponieważ również dużo lepiej poradzi sobie od człowieka, znowu poprzez wyeliminowanie błędu ludzkiego.\n",
        "\n",
        "• kierowanie samochodem - Co prawda AI może pomóc, jest wykorzystywane w niektórych samochodach zautomatyzowanych, jednak to człowiek lepiej poradzi sobie w nieprzewidywalnych sytuacjach.\n",
        "\n",
        "\n",
        "Zadanie 2\n",
        "Które z następujących problemów można uznać za mieszczące się w zakresie sztucznej inteligencji:\n",
        "\n",
        "• streszczanie tekstu - Tak, jednak streszczenie to nie zawsze będzie poprawne\n",
        "\n",
        "• tłumaczenie tekstu - Tak, nie będzie to idealne tłumaczenie, jak na przykład profesjonalny tłumacz mógłby zrobić, jednak AI dobrze poradzi sobie z tłumaczeniem wszelkich tekstów.\n",
        "\n",
        "• klasyfikacja tekstu do kategorii tematycznych - Tak, AI dosyć często jest stosowane do klasyfikowania tekstu do kategorii tematycznych.\n",
        "\n",
        "• odpowiadanie na proste pytania zadawane w języku naturalnym - Tak, przykładem są chatboty i asystenci głosowi, jak Siri czy Alexa, które potrafią rozumieć pytania i generować odpowiedzi.\n",
        "\n",
        "• rozwiązywanie układów równań - AI doskonale, może i nawet lepiej niż człowiek, poradzi sobie z rozwiązywaniem układów równań.\n",
        "\n",
        "• układanie rozkładu jazdy - tak, AI jest co prawda wykorzystywane przy automatyzacji układania rozkładu jazdy, jednak dużo więcej roboty przy tym wykonuje człowiek, ponieważ jest to bardzo skomplikowana procedura, trzeba uwzględnić każdy szczegół, aby rozkład wyszedł jak najbardziej poprawnie, a jednak to człowiek przebija AI w kreatywności.\n",
        "\n",
        "• rozwiązywanie układów równań liniowych - Tak, sztuczna inteligencja, w tym sieci neuronowe, wykazuje wysoką skuteczność w rozwiązywaniu układów równań liniowych.\n",
        "\n",
        "• symboliczne obliczanie pochodnych - Sztuczna inteligencja, a zwłaszcza algorytmy oparte na uczeniu maszynowym i metody analityczne, mogą skutecznie obliczać symboliczne pochodne. Dzięki złożonym algorytmom, AI jest w stanie analizować funkcje matematyczne i wyprowadzać ich pochodne z dużą precyzją. Jednak warto pamiętać, że mogą występować ograniczenia w kontekście specyficznych funkcji lub zastosowań, więc zawsze warto zweryfikować wyniki samodzielnie.\n",
        "\n",
        "• symboliczne całkowanie - Sztuczna inteligencja wykazuje pewne zdolności w tej dziedzinie, jednak efektywność zależy od zastosowanej metody i złożoności równań. AI, zwłaszcza w postaci algorytmów i programów komputerowych, może rozwiązywać różne problemy matematyczne, ale w skomplikowanych przypadkach może nie dać sobie rady tak jak inteligencja ludzka, która dużo lepiej sobie poradzi dzięki zdolności intuicji oraz doświadczenia.\n",
        "\n",
        "• kierowanie samochodem - AI znacznie potrafi znacznie poprawić zdolności samochodów do autonomicznego kierowania. AI umożliwia pojazdom np. identyfikację obiektów oraz orientację na drodze. Dzięki zaawansowanym algorytmom, takim jak głębokie uczenie, samochody autonomiczne mogą jeździć z większą precyzją i bezpieczeństwem. Niemniej jednak, skuteczność AI w kierowaniu samochodem wciąż wymaga dalszego rozwoju i testów.\n",
        "\n",
        "\n",
        "Zadanie 3\n",
        "Które z poniższych rodzajów komunikacyjnego zachowania człowieka mogą być\n",
        "obecnie skutecznie imitowane przez sztuczne systemy (odpowiednio oprogramowane\n",
        "maszyny):\n",
        "• rozmowa towarzyska - Obecnie czatboty są bardzo dobre w odbywaniu rozmów towarzyskich, jednak nie są w tym idealne, na przykład nie mogą rozumieć kontekstów emocjonalnych oraz ogólnych zasad społecznych jakie panują w interakcjach między poszczególnymi ludźmi, zawsze takie rozmowy będą w mniejszym lub większym stopniu podobne i/lub powtarzalne.\n",
        "\n",
        "• dyskusja polityczna - nie\n",
        "\n",
        "• dyskusja naukowa - nie\n",
        "\n",
        "• odpowiadanie na pytania klientów w telefonicznej infolinii - W obecnych czasach sztuczne systemy odpowiadające na pytania klientów w infolinii telefonicznej są bardzo powszechne, oraz dobrze radzą sobie w odpowiadaniu na pytania różnych klientów.\n",
        "\n",
        "• odpowiadanie na pytania klientów w internetowej infolini - Tak jak powyżej, boty są obecnie w stanie bardzo dobrze radzić sobie z odpowiadaniem na pytania klientów w infolini internetowej, jest to również bardzo popularne w dzisiejszych czasach.\n",
        "\n",
        "\n",
        "Zadanie 4\n",
        "Do zadań skorzystaj z załączonej listy Chatbotów (Chatterbotów) lub znajdź własne.\n",
        "\n",
        "1. Przeprowadź rozmowę z chatbotem. Spróbuj zdefiniować różnice pomiędzy\n",
        "botem udającym człowieka (przygotowywanym na test Turinga) a botem\n",
        "„asystentem, służącym”:\n",
        " - Bot udający człowieka - celem bota jest symulowanie ludzkiej inteligencji w sposób na tyle przekonujący, że osoba komunikująca się z nim nie będzie w stanie odróżnić, czy rozmawia z człowiekiem, czy z maszyną. Kluczową funkcją bota w tym przypadku jest \"udawanie\" człowieka, imitowanie ludzkiego zachowania, języka i sposobu myślenia.\n",
        "- Bot-asystent: Celem jest ułatwienie użytkownikowi wykonania określonych zadań, np. odpowiadanie na pytania, pomaganie w nawigacji, rezerwowanie biletów, przypominanie o wydarzeniach. Nie próbuje udawać człowieka – jego zadaniem jest efektywne, precyzyjne dostarczanie informacji i wsparcia w sposób jasny i funkcjonalny.\n",
        "\n",
        "2. Sprawdź dwa boty z obu z tych rodzajów na występowanie zachowań:\n",
        "a) opowiadanie żartów:\n",
        "chatbot - daje wrażenie opowiadania żartów z prawdziwym człowiekiem, jest w stanie nawet imitować ton głosu, dostosować do określonej sytuacji\n",
        "asystent - głos sztuczny, nienaturalny, żarty momentami nie mają sensu\n",
        "b) przytaczanie cytatów z twoich wypowiedzi, lub znanych osób\n",
        "czatbot - potrafi odczytywać cytaty z moich wypowiedzi\n",
        "asystent - odpowiada mi że nie jest w stanie tego zrobić\n",
        "c) nawiązywanie wypowiedzi do słów kluczowych,\n",
        "czatbot - potrafi dobrze nawiązywać do słów kluczowych\n",
        "asystent - znowu mówi że nie umie tego zrobić\n",
        "d) zadawanie dużej liczby pytań,\n",
        "czatbot - może reagować \"emocjonalnie\" (podirytowanie, zdziwienie, a nawet rozbawienie)\n",
        "asystent - normalnie odpowiada na wszystkie pytania\n",
        "e) powracanie do początku wypowiedzi, sekwencyjne powtarzanie,\n",
        "czatbot - potrafi dobrze skanować przez rozmowę i wracać do jej początku\n",
        "asystent - nie potrafi, zaczyna tłumaczyć, że nie jest w stanie wykonać tego polecenia\n",
        "f) zadawanie pytań powstających z twoich wypowiedzi,\n",
        "czatbot - potrafi poprawnie odpowiadać na pytania wynikające z moich wypowiedzi\n",
        "asystent - nie potrafi, pisze mi tylko żebym sama sobie przypomniała i wtedy zadała pytanie\n",
        "g) odpowiadanie wymijająco, ogólnikowo,\n",
        "czatbot - zauważa że odpowiadam w taki sposób\n",
        "asystent - próbuje pomóc żebym wymyśliła temat do rozmowy\n",
        "h) częsta zmiana tematu rozmowy\n",
        "chatbot - reaguje na częstą zmianę tematu\n",
        "asystent - brak reakcji na częstą zmianę tematu, po prostu odpowiada automatycznie na cokolwiek mu powiem\n",
        "i) problemy z utrzymaniem wątków.\n",
        "czatbot - potrafi sam wymyślić temat\n",
        "asystent - pomaga mi żebym sama coś wymyśliła, podsuwa dużą ilość tematów podzielone na kategorie\n",
        "\n",
        "3. Sporządź raport ze spostrzeżeń. - Wychodzi na to, że czatbot dobrze działa jako bot do rozmów, potrafi naśladować \"emocjonalne\" zachowania ludzkie oraz potrafi posiadać osobowość podobną do cech osobowościowych człwoieka. Natomiast agent chce jedynie służyć pomocą, \"stara się\" odpowiadać zawsze w miły sposób. Czatbot jeszcze może dobrze skanować przez całą konwersację i odwoływać się do poprzednich wątków związanych z rozmową, asystent tego nie potrafi i zaczyna tłumaczyć, że nie jest w stanie tego zrobić.\n",
        "\n",
        "4. Na podstawie powyższych obserwacji, w grupie dwóch osób spróbujcie przewidzieć zachowania dwóch rozmawiających ze sobą chatbotów (przepisując ich\n",
        "wzajemne odpowiedzi).\n",
        "5. Zdenerwuj bota"
      ],
      "metadata": {
        "id": "LXCCWY-QVDcM"
      }
    },
    {
      "cell_type": "markdown",
      "source": [
        "# Nowa sekcja"
      ],
      "metadata": {
        "id": "crvlQ5iYa_y_"
      }
    },
    {
      "cell_type": "markdown",
      "source": [],
      "metadata": {
        "id": "nwBJ64GEVeVF"
      }
    }
  ]
}